{
  "nbformat": 4,
  "nbformat_minor": 0,
  "metadata": {
    "colab": {
      "provenance": [],
      "authorship_tag": "ABX9TyNcMg30WTyEhKsQk7qmzRqz",
      "include_colab_link": true
    },
    "kernelspec": {
      "name": "python3",
      "display_name": "Python 3"
    },
    "language_info": {
      "name": "python"
    }
  },
  "cells": [
    {
      "cell_type": "markdown",
      "metadata": {
        "id": "view-in-github",
        "colab_type": "text"
      },
      "source": [
        "<a href=\"https://colab.research.google.com/github/DhawaDong/BioMedical-Data-Lab/blob/main/BioMedical_Data_Lab.ipynb\" target=\"_parent\"><img src=\"https://colab.research.google.com/assets/colab-badge.svg\" alt=\"Open In Colab\"/></a>"
      ]
    },
    {
      "cell_type": "code",
      "execution_count": null,
      "metadata": {
        "colab": {
          "base_uri": "https://localhost:8080/"
        },
        "id": "-qdYHNQ87pF6",
        "outputId": "38a00f48-1deb-4ce7-888c-90c453a498fa"
      },
      "outputs": [
        {
          "output_type": "stream",
          "name": "stdout",
          "text": [
            "Hello World, welcome to my lab: \\ BioMedical Data Lab\n"
          ]
        }
      ],
      "source": [
        "# Simple Python code to display a welcome message\n",
        "print(\"Hello World, welcome to my lab: \\\\ BioMedical Data Lab\")"
      ]
    }
  ]
}